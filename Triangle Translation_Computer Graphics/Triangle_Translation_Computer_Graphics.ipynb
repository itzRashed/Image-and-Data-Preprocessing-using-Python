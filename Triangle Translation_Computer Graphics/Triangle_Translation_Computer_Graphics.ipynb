{
  "nbformat": 4,
  "nbformat_minor": 0,
  "metadata": {
    "colab": {
      "provenance": []
    },
    "kernelspec": {
      "name": "python3",
      "display_name": "Python 3"
    },
    "language_info": {
      "name": "python"
    }
  },
  "cells": [
    {
      "cell_type": "code",
      "execution_count": null,
      "metadata": {
        "colab": {
          "base_uri": "https://localhost:8080/",
          "height": 421
        },
        "id": "xdlJEMHYB9mY",
        "outputId": "32e38ae7-3c08-42e3-acd1-7051daaa6771"
      },
      "outputs": [
        {
          "name": "stdout",
          "output_type": "stream",
          "text": [
            " Translation Example: A Triangle translate with a Direction Vector V = 5I +3J: \n",
            "Enter the value of X1 : 5\n",
            "Enter the value of Y1 : 10\n",
            "Enter the value of X2 : 10\n",
            "Enter the value of Y2 : 15\n",
            "Enter the value of X3 : 12\n",
            "Enter the value of Y3 : 12\n",
            "Enter vector X : 13\n",
            "Enter vector Y : 7\n"
          ]
        },
        {
          "output_type": "display_data",
          "data": {
            "text/plain": [
              "<Figure size 432x288 with 1 Axes>"
            ],
            "image/png": "[encoded data removed]"
          },
          "metadata": {
            "needs_background": "light"
          }
        }
      ],
      "source": [
        "# import necessary library\n",
        "from matplotlib import pyplot as plt\n",
        "\n",
        "def translateTriangle(x1, y1, x2, y2, x3, y3, x, y):\n",
        "    xcoordinate1 = []\n",
        "    ycoordinate1 = []\n",
        "\n",
        "    # original triangle\n",
        "    xcoordinate1.append(x1)\n",
        "    xcoordinate1.append(x2)\n",
        "    xcoordinate1.append(x3)\n",
        "    xcoordinate1.append(x1)\n",
        "    ycoordinate1.append(y1)\n",
        "    ycoordinate1.append(y2)\n",
        "    ycoordinate1.append(y3)\n",
        "    ycoordinate1.append(y1)\n",
        "\n",
        "    xcoordinate2 = []\n",
        "    ycoordinate2 = []\n",
        "    # translated triangle\n",
        "    x4 = x1 + x\n",
        "    x5 = x2 + x\n",
        "    x6 = x3 + x\n",
        "    y4 = y1 + y\n",
        "    y5 = y2 + y\n",
        "    y6 = y3 + y\n",
        "\n",
        "    xcoordinate2.append(x4)\n",
        "    xcoordinate2.append(x5)\n",
        "    xcoordinate2.append(x6)\n",
        "    xcoordinate2.append(x4)\n",
        "    ycoordinate2.append(y4)\n",
        "    ycoordinate2.append(y5)\n",
        "    ycoordinate2.append(y6)\n",
        "    ycoordinate2.append(y4)\n",
        "\n",
        "    plt.plot(xcoordinate1, ycoordinate1, marker='o', markersize=3,markerfacecolor=\"red\")\n",
        "    plt.plot(xcoordinate2, ycoordinate2, marker='o', markersize=3,markerfacecolor=\"green\")\n",
        "    plt.show()\n",
        "\n",
        "# main functionality start from here\n",
        "\n",
        "print(' Translation Example: A Triangle translate with a Direction Vector V = 5I +3J: ')\n",
        "x1 = int(input(\"Enter the value of X1 : \"))\n",
        "y1 = int(input(\"Enter the value of Y1 : \"))\n",
        "x2 = int(input(\"Enter the value of X2 : \"))\n",
        "y2 = int(input(\"Enter the value of Y2 : \"))\n",
        "x3 = int(input(\"Enter the value of X3 : \"))\n",
        "y3 = int(input(\"Enter the value of Y3 : \"))\n",
        "x  = int(input(\"Enter vector X : \"))\n",
        "y  = int(input(\"Enter vector Y : \"))\n",
        "\n",
        "translateTriangle(x1, y1, x2, y2, x3, y3, x, y)\n",
        ""
      ]
    }
  ]
}